{
 "cells": [
  {
   "cell_type": "markdown",
   "metadata": {},
   "source": [
    "# Nolan King | 3/25/2024 | Assignment 3.1 - 3.6 from Chapter 3's 'Things to Do'"
   ]
  },
  {
   "cell_type": "code",
   "execution_count": 2,
   "metadata": {},
   "outputs": [
    {
     "name": "stdout",
     "output_type": "stream",
     "text": [
      "Seconds in an hour: 3600\n"
     ]
    }
   ],
   "source": [
    "#3.1\n",
    "seconds_per_minute = 60\n",
    "minutes_per_hour = 60\n",
    "print(\"Seconds in an hour:\", seconds_per_minute * minutes_per_hour)"
   ]
  },
  {
   "cell_type": "code",
   "execution_count": 5,
   "metadata": {},
   "outputs": [
    {
     "name": "stdout",
     "output_type": "stream",
     "text": [
      "Seconds in an hour: 3600\n"
     ]
    }
   ],
   "source": [
    "#3.2\n",
    "seconds_per_hour = seconds_per_minute * minutes_per_hour\n",
    "print(\"Seconds in an hour:\", seconds_per_hour)"
   ]
  },
  {
   "cell_type": "code",
   "execution_count": 4,
   "metadata": {},
   "outputs": [
    {
     "name": "stdout",
     "output_type": "stream",
     "text": [
      "Seconds in a day: 86400\n"
     ]
    }
   ],
   "source": [
    "#3.3\n",
    "hours_per_day = 24\n",
    "print(\"Seconds in a day:\", seconds_per_hour * hours_per_day)"
   ]
  },
  {
   "cell_type": "code",
   "execution_count": 6,
   "metadata": {},
   "outputs": [
    {
     "name": "stdout",
     "output_type": "stream",
     "text": [
      "Seconds in a day: 86400\n"
     ]
    }
   ],
   "source": [
    "#3.4\n",
    "seconds_per_day = seconds_per_hour * hours_per_day\n",
    "print(\"Seconds in a day:\", seconds_per_day)"
   ]
  },
  {
   "cell_type": "code",
   "execution_count": 7,
   "metadata": {},
   "outputs": [
    {
     "name": "stdout",
     "output_type": "stream",
     "text": [
      "Floating-point division of seconds_per_day by seconds_per_hour: 24.0\n"
     ]
    }
   ],
   "source": [
    "#3.5\n",
    "seconds_per_day_float = seconds_per_day / seconds_per_hour\n",
    "print(\"Floating-point division of seconds_per_day by seconds_per_hour:\", seconds_per_day_float)"
   ]
  },
  {
   "cell_type": "code",
   "execution_count": 8,
   "metadata": {},
   "outputs": [
    {
     "name": "stdout",
     "output_type": "stream",
     "text": [
      "Integer division of seconds_per_day by seconds_per_hour: 24\n"
     ]
    }
   ],
   "source": [
    "#3.6\n",
    "seconds_per_day_integer = seconds_per_day // seconds_per_hour\n",
    "print(\"Integer division of seconds_per_day by seconds_per_hour:\", seconds_per_day_integer)"
   ]
  }
 ],
 "metadata": {
  "kernelspec": {
   "display_name": "Python 3",
   "language": "python",
   "name": "python3"
  },
  "language_info": {
   "codemirror_mode": {
    "name": "ipython",
    "version": 3
   },
   "file_extension": ".py",
   "mimetype": "text/x-python",
   "name": "python",
   "nbconvert_exporter": "python",
   "pygments_lexer": "ipython3",
   "version": "3.12.2"
  }
 },
 "nbformat": 4,
 "nbformat_minor": 2
}
